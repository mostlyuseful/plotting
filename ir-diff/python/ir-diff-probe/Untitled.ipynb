{
 "cells": [
  {
   "cell_type": "markdown",
   "metadata": {},
   "source": [
    "M43  - Display pin status, watch pins for changes, watch endstops & toggle LED, Z servo probe test, toggle pins"
   ]
  },
  {
   "cell_type": "code",
   "execution_count": 1,
   "metadata": {},
   "outputs": [
    {
     "name": "stdout",
     "output_type": "stream",
     "text": [
      "Populating the interactive namespace from numpy and matplotlib\n"
     ]
    }
   ],
   "source": [
    "%pylab inline\n",
    "import re\n",
    "import serial\n",
    "from time import sleep\n",
    "from mypy.types import Union\n",
    "from collections import namedtuple"
   ]
  },
  {
   "cell_type": "code",
   "execution_count": 2,
   "metadata": {},
   "outputs": [],
   "source": [
    "ctlport = '/dev/ttyUSB2'\n",
    "ctl = serial.Serial(ctlport, baudrate=250000, timeout=0)\n",
    "sensorport = '/dev/ttyACM0'\n",
    "sensor = serial.Serial(sensorport, baudrate=115200, timeout=0)"
   ]
  },
  {
   "cell_type": "code",
   "execution_count": 3,
   "metadata": {},
   "outputs": [
    {
     "name": "stdout",
     "output_type": "stream",
     "text": [
      "b''\n"
     ]
    }
   ],
   "source": [
    "print(ctl.readline())\n",
    "while ctl.in_waiting:\n",
    "    print(ctl.readline())"
   ]
  },
  {
   "cell_type": "code",
   "execution_count": 4,
   "metadata": {},
   "outputs": [
    {
     "data": {
      "text/plain": [
       "b''"
      ]
     },
     "execution_count": 4,
     "metadata": {},
     "output_type": "execute_result"
    }
   ],
   "source": [
    "ctl.write(b'M114\\r\\n')\n",
    "sleep(0.25)\n",
    "ctl.read(1000)"
   ]
  },
  {
   "cell_type": "code",
   "execution_count": 5,
   "metadata": {},
   "outputs": [],
   "source": [
    "def cmd_async(command):\n",
    "    if type(command) != bytes:\n",
    "        command = command.encode()\n",
    "    ctl.write(command)\n",
    "    ctl.write(b'\\r\\n')\n",
    "    ctl.flush()\n",
    "    \n",
    "def fold_lines(fragments):\n",
    "    buffer = b''\n",
    "    for frag in fragments:\n",
    "        buffer += frag\n",
    "        if buffer.endswith(b'\\n'):\n",
    "            yield buffer\n",
    "            buffer = b''\n",
    "    if buffer:\n",
    "        yield buffer\n",
    "\n",
    "def cmd(command, do_print=False):\n",
    "    if type(command) != bytes:\n",
    "        command = command.encode()\n",
    "    ctl.reset_input_buffer()\n",
    "    ctl.write(command)\n",
    "    ctl.write(b'\\r\\n')\n",
    "    ctl.flush()\n",
    "    rv = []\n",
    "    while True:\n",
    "        line = ctl.readline()\n",
    "        if line:\n",
    "            rv.append(line)\n",
    "            if line.strip().lower() == b'ok':\n",
    "                break\n",
    "    if do_print:\n",
    "        print('\\n'.join(line.decode().strip() for line in rv))\n",
    "    return list(fold_lines(rv))"
   ]
  },
  {
   "cell_type": "code",
   "execution_count": null,
   "metadata": {},
   "outputs": [
    {
     "ename": "KeyboardInterrupt",
     "evalue": "",
     "output_type": "error",
     "traceback": [
      "\u001b[0;31m---------------------------------------------------------------------------\u001b[0m",
      "\u001b[0;31mKeyboardInterrupt\u001b[0m                         Traceback (most recent call last)",
      "\u001b[0;32m<ipython-input-6-9619fb5289b1>\u001b[0m in \u001b[0;36m<module>\u001b[0;34m()\u001b[0m\n\u001b[1;32m      1\u001b[0m \u001b[0;31m# Home\u001b[0m\u001b[0;34m\u001b[0m\u001b[0;34m\u001b[0m\u001b[0m\n\u001b[0;32m----> 2\u001b[0;31m \u001b[0mcmd\u001b[0m\u001b[0;34m(\u001b[0m\u001b[0;34m'G28'\u001b[0m\u001b[0;34m)\u001b[0m\u001b[0;34m\u001b[0m\u001b[0m\n\u001b[0m\u001b[1;32m      3\u001b[0m \u001b[0;31m# Set units to mm\u001b[0m\u001b[0;34m\u001b[0m\u001b[0;34m\u001b[0m\u001b[0m\n\u001b[1;32m      4\u001b[0m \u001b[0mcmd\u001b[0m\u001b[0;34m(\u001b[0m\u001b[0;34m'G21'\u001b[0m\u001b[0;34m)\u001b[0m\u001b[0;34m\u001b[0m\u001b[0m\n\u001b[1;32m      5\u001b[0m \u001b[0;31m# Absolute positioning\u001b[0m\u001b[0;34m\u001b[0m\u001b[0;34m\u001b[0m\u001b[0m\n",
      "\u001b[0;32m<ipython-input-5-8a73ec680c9f>\u001b[0m in \u001b[0;36mcmd\u001b[0;34m(command, do_print)\u001b[0m\n\u001b[1;32m     25\u001b[0m     \u001b[0mrv\u001b[0m \u001b[0;34m=\u001b[0m \u001b[0;34m[\u001b[0m\u001b[0;34m]\u001b[0m\u001b[0;34m\u001b[0m\u001b[0m\n\u001b[1;32m     26\u001b[0m     \u001b[0;32mwhile\u001b[0m \u001b[0;32mTrue\u001b[0m\u001b[0;34m:\u001b[0m\u001b[0;34m\u001b[0m\u001b[0m\n\u001b[0;32m---> 27\u001b[0;31m         \u001b[0mline\u001b[0m \u001b[0;34m=\u001b[0m \u001b[0mctl\u001b[0m\u001b[0;34m.\u001b[0m\u001b[0mreadline\u001b[0m\u001b[0;34m(\u001b[0m\u001b[0;34m)\u001b[0m\u001b[0;34m\u001b[0m\u001b[0m\n\u001b[0m\u001b[1;32m     28\u001b[0m         \u001b[0;32mif\u001b[0m \u001b[0mline\u001b[0m\u001b[0;34m:\u001b[0m\u001b[0;34m\u001b[0m\u001b[0m\n\u001b[1;32m     29\u001b[0m             \u001b[0mrv\u001b[0m\u001b[0;34m.\u001b[0m\u001b[0mappend\u001b[0m\u001b[0;34m(\u001b[0m\u001b[0mline\u001b[0m\u001b[0;34m)\u001b[0m\u001b[0;34m\u001b[0m\u001b[0m\n",
      "\u001b[0;32m~/.virtualenvs/sci3/lib/python3.5/site-packages/serial/serialposix.py\u001b[0m in \u001b[0;36mread\u001b[0;34m(self, size)\u001b[0m\n\u001b[1;32m    478\u001b[0m             \u001b[0;32mraise\u001b[0m \u001b[0mportNotOpenError\u001b[0m\u001b[0;34m\u001b[0m\u001b[0m\n\u001b[1;32m    479\u001b[0m         \u001b[0mread\u001b[0m \u001b[0;34m=\u001b[0m \u001b[0mbytearray\u001b[0m\u001b[0;34m(\u001b[0m\u001b[0;34m)\u001b[0m\u001b[0;34m\u001b[0m\u001b[0m\n\u001b[0;32m--> 480\u001b[0;31m         \u001b[0mtimeout\u001b[0m \u001b[0;34m=\u001b[0m \u001b[0mTimeout\u001b[0m\u001b[0;34m(\u001b[0m\u001b[0mself\u001b[0m\u001b[0;34m.\u001b[0m\u001b[0m_timeout\u001b[0m\u001b[0;34m)\u001b[0m\u001b[0;34m\u001b[0m\u001b[0m\n\u001b[0m\u001b[1;32m    481\u001b[0m         \u001b[0;32mwhile\u001b[0m \u001b[0mlen\u001b[0m\u001b[0;34m(\u001b[0m\u001b[0mread\u001b[0m\u001b[0;34m)\u001b[0m \u001b[0;34m<\u001b[0m \u001b[0msize\u001b[0m\u001b[0;34m:\u001b[0m\u001b[0;34m\u001b[0m\u001b[0m\n\u001b[1;32m    482\u001b[0m             \u001b[0;32mtry\u001b[0m\u001b[0;34m:\u001b[0m\u001b[0;34m\u001b[0m\u001b[0m\n",
      "\u001b[0;31mKeyboardInterrupt\u001b[0m: "
     ]
    }
   ],
   "source": [
    "# Home\n",
    "cmd('G28')\n",
    "# Set units to mm\n",
    "cmd('G21')\n",
    "# Absolute positioning\n",
    "cmd('G90')"
   ]
  },
  {
   "cell_type": "code",
   "execution_count": null,
   "metadata": {},
   "outputs": [],
   "source": [
    "def go(x=None,y=None,z=None,speed=None):\n",
    "    tmpl = 'G0'\n",
    "    if x is not None:\n",
    "        tmpl += ' X{x}'\n",
    "    if y is not None:\n",
    "        tmpl += ' Y{y}'\n",
    "    if z is not None:\n",
    "        tmpl += ' Z{z}'\n",
    "    if speed is not None:\n",
    "        tmpl += ' F{speed}'\n",
    "    s = tmpl.format(x=x, y=y, z=z, speed=speed)\n",
    "    cmd(s)\n",
    "    return cmd('G4 P0')"
   ]
  },
  {
   "cell_type": "code",
   "execution_count": null,
   "metadata": {},
   "outputs": [],
   "source": [
    "def check_hit():\n",
    "    last_sign = None\n",
    "    try:\n",
    "        while True:\n",
    "            line = sensor.readline().strip()\n",
    "            if not line: \n",
    "                break\n",
    "            ambient, u, v = [float(_) for _ in line.split(b';')]\n",
    "            u -= ambient\n",
    "            v -= ambient\n",
    "            current_sign = sign(u-v)\n",
    "            if last_sign is not None and \\\n",
    "               (current_sign != last_sign):\n",
    "                    return True\n",
    "            last_sign = current_sign\n",
    "        return False\n",
    "    except:\n",
    "        return False"
   ]
  },
  {
   "cell_type": "code",
   "execution_count": null,
   "metadata": {},
   "outputs": [],
   "source": [
    "Position = namedtuple('Position',['x','y','z'])\n",
    "def current_position():\n",
    "    raw = cmd('M114')[0]\n",
    "    m = re.search(b'^X:(.*?) Y:(.*?) Z:(.*?) E:', raw)\n",
    "    x,y,z = [float(_) for _ in m.groups()]\n",
    "    return Position(x,y,z)\n",
    "current_position()"
   ]
  },
  {
   "cell_type": "code",
   "execution_count": null,
   "metadata": {},
   "outputs": [],
   "source": [
    "def probe_coarse(z1, z2):\n",
    "    # Go piecewise from z1 to z2, check endstop for each segment\n",
    "    # Return position at which endstop was hit approximately\n",
    "    # There is no G-code to stop precisely immediately, so go in segments\n",
    "    z1, z2 = sorted([z1,z2])\n",
    "    span = abs(z2-z1)\n",
    "    segment_length = 1.0 # mm\n",
    "    num_segments = int(ceil(span / segment_length))\n",
    "    zz = linspace(z1,z2,num_segments)[1:]\n",
    "    go(z=z1)\n",
    "    for z in zz:\n",
    "        cmd_async('G0 Z{z} F100'.format(z=z))\n",
    "        while True:\n",
    "            if check_hit():\n",
    "                rv = cmd('M114')\n",
    "                # Wait until move done\n",
    "                cmd('M400')\n",
    "                return rv\n",
    "            else:\n",
    "                # Did we reach target z?\n",
    "                if np.isclose(current_position().z, z, atol=0.01):\n",
    "                    break\n",
    "    return None\n",
    "\n",
    "go(z=10,speed=9999)\n",
    "go(x=100,y=100)\n",
    "print(probe_coarse(10, 1))"
   ]
  },
  {
   "cell_type": "code",
   "execution_count": null,
   "metadata": {},
   "outputs": [],
   "source": [
    "go(z=3)\n",
    "sensor.reset_input_buffer()\n",
    "#cmd_async('M0 Z2')\n",
    "for i in range(20):\n",
    "    z = current_position().z\n",
    "    print(z, check_hit(), flush=True)\n",
    "    if z<2.05: \n",
    "        break\n",
    "    sleep(0.05)"
   ]
  },
  {
   "cell_type": "code",
   "execution_count": null,
   "metadata": {},
   "outputs": [],
   "source": [
    "ctl.write(b'M114\\n')\n",
    "ctl.read(1000)"
   ]
  },
  {
   "cell_type": "code",
   "execution_count": null,
   "metadata": {},
   "outputs": [],
   "source": [
    "EndstopNotFound = object()\n",
    "EndstopResult = Union[EndstopNotFound, float]\n",
    "\n",
    "def probe_subdivide(z1:float, z2:float, epsilon:float=0.01, was_hit:bool=False) -> EndstopResult :\n",
    "    zmin, zmax = sorted([z1,z2])\n",
    "    # Delta-z: Half subdivision span\n",
    "    dz = (zmax-zmin)/2\n",
    "    if(dz<epsilon and was_hit):\n",
    "        return (z2+z1)/2\n",
    "    if move_check_hit(zmax, zmin+dz):\n",
    "        return find_endstop(zmax, zmin+dz, epsilon, was_hit=True)\n",
    "    elif move_check_hit(zmin+dz, zmin):\n",
    "        return find_endstop(zmin+dz, zmin, epsilon, was_hit=True)\n",
    "    else:\n",
    "        return EndstopNotFound\n",
    "    \n",
    "probe_subdivide(50,2)"
   ]
  },
  {
   "cell_type": "code",
   "execution_count": null,
   "metadata": {},
   "outputs": [],
   "source": [
    "x,y = 100, 100\n",
    "zmin = 1\n",
    "zmax = 50\n",
    "go(z=zmax)\n",
    "go(x=100, y=100)\n",
    "probe()"
   ]
  },
  {
   "cell_type": "code",
   "execution_count": null,
   "metadata": {},
   "outputs": [],
   "source": [
    "#sensor.reset_input_buffer()\n",
    "sensor.readline()"
   ]
  },
  {
   "cell_type": "code",
   "execution_count": null,
   "metadata": {},
   "outputs": [],
   "source": []
  },
  {
   "cell_type": "code",
   "execution_count": null,
   "metadata": {},
   "outputs": [],
   "source": [
    "sign([-1,0,1])"
   ]
  },
  {
   "cell_type": "code",
   "execution_count": null,
   "metadata": {},
   "outputs": [],
   "source": []
  }
 ],
 "metadata": {
  "kernelspec": {
   "display_name": "Python 3",
   "language": "python",
   "name": "python3"
  },
  "language_info": {
   "codemirror_mode": {
    "name": "ipython",
    "version": 3
   },
   "file_extension": ".py",
   "mimetype": "text/x-python",
   "name": "python",
   "nbconvert_exporter": "python",
   "pygments_lexer": "ipython3",
   "version": "3.5.1+"
  }
 },
 "nbformat": 4,
 "nbformat_minor": 2
}
