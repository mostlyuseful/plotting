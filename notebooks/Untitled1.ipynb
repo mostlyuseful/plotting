{
 "cells": [
  {
   "cell_type": "code",
   "execution_count": 17,
   "metadata": {},
   "outputs": [
    {
     "name": "stdout",
     "output_type": "stream",
     "text": [
      "Populating the interactive namespace from numpy and matplotlib\n"
     ]
    }
   ],
   "source": [
    "%pylab inline\n",
    "from collections import namedtuple\n",
    "from pipetools import pipe"
   ]
  },
  {
   "cell_type": "code",
   "execution_count": 18,
   "metadata": {},
   "outputs": [],
   "source": [
    "from plotting.fill import Polygon, raster_polygon"
   ]
  },
  {
   "cell_type": "code",
   "execution_count": 19,
   "metadata": {},
   "outputs": [
    {
     "data": {
      "image/png": "[encoded data removed]",
      "text/plain": [
       "<Figure size 432x288 with 1 Axes>"
      ]
     },
     "metadata": {},
     "output_type": "display_data"
    }
   ],
   "source": [
    "figure()\n",
    "xx = [1, 2, 3, 0.3, 3.7, 1]\n",
    "yy = [0, 3, 0, 2, 2, 0]\n",
    "pgon = Polygon(xx, yy)\n",
    "\n",
    "plot(xx, yy, 'x-r')\n",
    "\n",
    "for y, spans in raster_polygon(pgon, 0.125):\n",
    "    for span in spans:\n",
    "        plot([span.x0, span.x1], [y, y], 'x-b')\n",
    "\n",
    "axis('equal');"
   ]
  },
  {
   "cell_type": "code",
   "execution_count": 20,
   "metadata": {},
   "outputs": [
    {
     "name": "stdout",
     "output_type": "stream",
     "text": [
      "63.9 ms ± 22.4 ms per loop (mean ± std. dev. of 7 runs, 10 loops each)\n"
     ]
    }
   ],
   "source": [
    "%%timeit\n",
    "for y, spans in raster_polygon(pgon, 0.01):\n",
    "    _ = list(spans)"
   ]
  },
  {
   "cell_type": "code",
   "execution_count": 21,
   "metadata": {},
   "outputs": [],
   "source": [
    "from plotting import pyxfill"
   ]
  },
  {
   "cell_type": "code",
   "execution_count": 22,
   "metadata": {},
   "outputs": [],
   "source": [
    "xx = [1, 2, 3, 0.3, 3.7, 1]\n",
    "yy = [0, 3, 0, 2, 2, 0]\n",
    "pgon = pyxfill.Polygon(xx, yy)"
   ]
  },
  {
   "cell_type": "code",
   "execution_count": 23,
   "metadata": {},
   "outputs": [
    {
     "name": "stdout",
     "output_type": "stream",
     "text": [
      "33.9 ms ± 5.49 ms per loop (mean ± std. dev. of 7 runs, 10 loops each)\n"
     ]
    }
   ],
   "source": [
    "%%timeit\n",
    "for y, spans in pyxfill.raster_polygon(pgon, 0.01):\n",
    "    _ = list(spans)"
   ]
  },
  {
   "cell_type": "code",
   "execution_count": 24,
   "metadata": {},
   "outputs": [
    {
     "data": {
      "text/plain": [
       "<pyxfill.Polygon at 0x7f7f1fd1f710>"
      ]
     },
     "execution_count": 24,
     "metadata": {},
     "output_type": "execute_result"
    }
   ],
   "source": [
    "pgon"
   ]
  },
  {
   "cell_type": "code",
   "execution_count": 33,
   "metadata": {},
   "outputs": [
    {
     "name": "stdout",
     "output_type": "stream",
     "text": [
      "y = 0.7\n",
      "\n",
      "y = 1.4\n",
      "0,1\n",
      "0,2\n",
      "y = 2.0999999999999996\n",
      "0,2\n",
      "1,2\n"
     ]
    },
    {
     "data": {
      "image/png": "[encoded data removed]",
      "text/plain": [
       "<Figure size 432x288 with 1 Axes>"
      ]
     },
     "metadata": {},
     "output_type": "display_data"
    }
   ],
   "source": [
    "figure()\n",
    "xx = [0,1,0]\n",
    "yy = [0,1,2]\n",
    "pgon = Polygon(xx, yy)\n",
    "\n",
    "plot(xx, yy, 'x-r')\n",
    "\n",
    "for y, spans in raster_polygon(pgon, 0.7):\n",
    "    for span in spans:\n",
    "        plot([span.x0, span.x1], [y, y], 'x-b')\n",
    "\n",
    "axis('equal');"
   ]
  },
  {
   "cell_type": "code",
   "execution_count": 32,
   "metadata": {},
   "outputs": [
    {
     "data": {
      "text/plain": [
       "[Line(homogenous=array([-1.,  1.,  0.]), parametric=ParametricLine(p=array([0., 0.]), u=array([1., 1.])), p1=Point(x=0, y=0), p2=Point(x=1, y=1)),\n",
       " Line(homogenous=array([-1., -1.,  2.]), parametric=ParametricLine(p=array([1., 1.]), u=array([-1.,  1.])), p1=Point(x=1, y=1), p2=Point(x=0, y=2)),\n",
       " Line(homogenous=array([2., 0., 0.]), parametric=ParametricLine(p=array([0., 2.]), u=array([ 0., -2.])), p1=Point(x=0, y=2), p2=Point(x=0, y=0)),\n",
       " Line(homogenous=array([0., 0., 0.]), parametric=ParametricLine(p=array([0., 0.]), u=array([0., 0.])), p1=Point(x=0, y=0), p2=Point(x=0, y=0))]"
      ]
     },
     "execution_count": 32,
     "metadata": {},
     "output_type": "execute_result"
    }
   ],
   "source": [
    "list(pgon.lines())"
   ]
  },
  {
   "cell_type": "code",
   "execution_count": null,
   "metadata": {},
   "outputs": [],
   "source": []
  }
 ],
 "metadata": {
  "kernelspec": {
   "display_name": "Python 3",
   "language": "python",
   "name": "python3"
  },
  "language_info": {
   "codemirror_mode": {
    "name": "ipython",
    "version": 3
   },
   "file_extension": ".py",
   "mimetype": "text/x-python",
   "name": "python",
   "nbconvert_exporter": "python",
   "pygments_lexer": "ipython3",
   "version": "3.5.1+"
  }
 },
 "nbformat": 4,
 "nbformat_minor": 2
}
