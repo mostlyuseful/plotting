{
 "cells": [
  {
   "cell_type": "code",
   "execution_count": 1,
   "metadata": {},
   "outputs": [
    {
     "name": "stdout",
     "output_type": "stream",
     "text": [
      "Populating the interactive namespace from numpy and matplotlib\n"
     ]
    }
   ],
   "source": [
    "%pylab inline\n",
    "import pyclipper"
   ]
  },
  {
   "cell_type": "code",
   "execution_count": 3,
   "metadata": {},
   "outputs": [
    {
     "data": {
      "text/plain": [
       "[[[240, 200], [190, 200], [190, 150], [240, 150]],\n",
       " [[200, 190], [230, 190], [215, 160]]]"
      ]
     },
     "execution_count": 3,
     "metadata": {},
     "output_type": "execute_result"
    }
   ],
   "source": [
    "subj = (\n",
    "    ((180, 200), (260, 200), (260, 150), (180, 150)),\n",
    "    ((215, 160), (230, 190), (200, 190))\n",
    ")\n",
    "clip = ((190, 210), (240, 210), (240, 130), (190, 130))\n",
    "\n",
    "pc = pyclipper.Pyclipper()\n",
    "pc.AddPath(clip, pyclipper.PT_CLIP, True)\n",
    "pc.AddPaths(subj, pyclipper.PT_SUBJECT, True)\n",
    "\n",
    "solution = pc.Execute(pyclipper.CT_INTERSECTION, pyclipper.PFT_EVENODD, pyclipper.PFT_EVENODD)"
   ]
  },
  {
   "cell_type": "code",
   "execution_count": 25,
   "metadata": {},
   "outputs": [
    {
     "data": {
      "image/png": "[encoded data removed]",
      "text/plain": [
       "<Figure size 432x288 with 1 Axes>"
      ]
     },
     "metadata": {},
     "output_type": "display_data"
    }
   ],
   "source": [
    "figure()\n",
    "axis('equal')\n",
    "\n",
    "c = np.asarray(clip)\n",
    "xx, yy = c.T\n",
    "plot(xx,yy,'x--r', alpha=0.3)\n",
    "\n",
    "for path in (np.asarray(_) for _ in subj):\n",
    "    xx, yy = path.T\n",
    "    plot(xx,yy,'x--b', alpha=0.3)\n",
    "\n",
    "for path in (np.asarray(_) for _ in solution):\n",
    "    xx = path[:,0]\n",
    "    yy = path[:,1]\n",
    "    plot(xx,yy,'x-')"
   ]
  },
  {
   "cell_type": "code",
   "execution_count": 14,
   "metadata": {},
   "outputs": [
    {
     "data": {
      "text/plain": [
       "array([240, 190, 190, 240])"
      ]
     },
     "execution_count": 14,
     "metadata": {},
     "output_type": "execute_result"
    }
   ],
   "source": [
    "np.asarray(solution[0])[:,0]"
   ]
  },
  {
   "cell_type": "code",
   "execution_count": null,
   "metadata": {},
   "outputs": [],
   "source": []
  }
 ],
 "metadata": {
  "kernelspec": {
   "display_name": "Python 3",
   "language": "python",
   "name": "python3"
  },
  "language_info": {
   "codemirror_mode": {
    "name": "ipython",
    "version": 3
   },
   "file_extension": ".py",
   "mimetype": "text/x-python",
   "name": "python",
   "nbconvert_exporter": "python",
   "pygments_lexer": "ipython3",
   "version": "3.5.1+"
  }
 },
 "nbformat": 4,
 "nbformat_minor": 2
}
