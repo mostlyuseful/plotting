{
 "cells": [
  {
   "cell_type": "code",
   "execution_count": 1,
   "metadata": {},
   "outputs": [
    {
     "name": "stdout",
     "output_type": "stream",
     "text": [
      "Populating the interactive namespace from numpy and matplotlib\n"
     ]
    }
   ],
   "source": [
    "%pylab inline"
   ]
  },
  {
   "cell_type": "code",
   "execution_count": 49,
   "metadata": {},
   "outputs": [],
   "source": [
    "import transducer.functional\n",
    "from transducer.eager import transduce\n",
    "from transducer.functional import compose\n",
    "from transducer.reducers import appending\n",
    "from transducer.transducers import mapping, filtering, reducing, scanning\n",
    "\n",
    "from transducer.infrastructure import Reduced, Transducer"
   ]
  },
  {
   "cell_type": "code",
   "execution_count": 44,
   "metadata": {},
   "outputs": [
    {
     "name": "stdout",
     "output_type": "stream",
     "text": [
      "[[1, 3, 9], [0, 2], [0], [0, 1, 2, 3]]\n",
      "[]\n"
     ]
    }
   ],
   "source": [
    "class Partitioning(Transducer):\n",
    "    def __init__(self, reducer, predicate):\n",
    "        super().__init__(reducer)\n",
    "        self._predicate = predicate\n",
    "        self._stored = []\n",
    "    def step(self, result, item):\n",
    "        if self._predicate(item): # Encountered delimiter\n",
    "            # yield stored sequence\n",
    "            if self._stored:\n",
    "                rv = self._reducer(result, self._stored)\n",
    "            else:\n",
    "                rv = result\n",
    "            # start new sequence\n",
    "            self._stored = [item]\n",
    "            return rv\n",
    "        else: # Encountered non-delimiter item\n",
    "            # append to existing sequence\n",
    "            self._stored.append(item)\n",
    "            return result\n",
    "    def complete(self, result):\n",
    "        if self._stored:\n",
    "            result = self._reducer.step(result, self._stored)\n",
    "        return self._reducer.complete(result)\n",
    "    \n",
    "def partitioning(predicate):\n",
    "    \"\"\"If predicate returns true, a new sequence (list) will be started with that item\"\"\"\n",
    "    def partitioning_transducer(reducer):\n",
    "        return Partitioning(reducer, predicate)\n",
    "\n",
    "    return partitioning_transducer\n",
    "\n",
    "print(transduce(partitioning(lambda x:x==0), appending(), [1,3,9,0,2,0,0,1,2,3]))\n",
    "print(transduce(partitioning(lambda x:x==0), appending(), []))"
   ]
  },
  {
   "cell_type": "code",
   "execution_count": 45,
   "metadata": {},
   "outputs": [
    {
     "name": "stdout",
     "output_type": "stream",
     "text": [
      "STARTPATH;EOFILL;0;0;0\n",
      "MOVETO;59.1836;99.1797\n",
      "LINETO;5.73438;7.13281\n",
      "LINETO;112.176;6.87109\n",
      "LINETO;59.1836;99.1797\n",
      "MOVETO;43.2422;62.5703\n",
      "LINETO;74.668;62.5703\n",
      "LINETO;74.668;56.5703\n",
      "LINETO;43.2422;56.5703\n",
      "LINETO;59.1836;99.1797\n",
      "MOVETO;80.8789;50.2539\n",
      "LINETO;59.2227;14.1797\n",
      "LINETO;38.8125;49.5352\n",
      "LINETO;59.1836;99.1797\n",
      "MOVETO;80.8789;50.2539\n",
      "STARTPATH;STROKE;1;0;0\n",
      "MOVETO;59.1836;99.1797\n",
      "LINETO;5.73438;7.13281\n",
      "LINETO;112.176;6.87109\n",
      "LINETO;59.1836;99.1797\n",
      "MOVETO;43.2422;62.5703\n",
      "LINETO;74.668;62.5703\n",
      "LINETO;74.668;56.5703\n",
      "LINETO;43.2422;56.5703\n",
      "LINETO;59.1836;99.1797\n",
      "MOVETO;80.8789;50.2539\n",
      "LINETO;59.2227;14.1797\n",
      "LINETO;38.8125;49.5352\n",
      "LINETO;59.1836;99.1797\n",
      "MOVETO;80.8789;50.2539\n",
      "\n"
     ]
    }
   ],
   "source": [
    "with open('partition_test.pltme') as f:\n",
    "    s = f.read()\n",
    "    print(s)"
   ]
  },
  {
   "cell_type": "code",
   "execution_count": 76,
   "metadata": {},
   "outputs": [],
   "source": [
    "class PltmePath(object):\n",
    "    __slots__ = ['coordinates']\n",
    "\n",
    "    def __init__(self, coordinates):\n",
    "        self.coordinates = coordinates\n",
    "        \n",
    "    def __str__(self):\n",
    "        return 'Path ' + ', '.join(str(c) for c in self.coordinates)\n",
    "\n",
    "\n",
    "class PltmePathGroup(object):\n",
    "    __slots__ = ['paths', 'style', 'color']\n",
    "\n",
    "    def __init__(self, paths, style, color):\n",
    "        self.paths = paths\n",
    "        self.style = style\n",
    "        self.color = color\n",
    "        \n",
    "    def __str__(self):\n",
    "        s = ['Path group: style={}, color={}'.format(self.style, self.color)]\n",
    "        s+= ['{} paths:'.format(len(self.paths))]\n",
    "        s+= ['\\t'+str(p) for p in self.paths]\n",
    "        return '\\n'.join(s)\n",
    "        \n",
    "    __repr__=__str__"
   ]
  },
  {
   "cell_type": "code",
   "execution_count": 77,
   "metadata": {},
   "outputs": [
    {
     "data": {
      "text/plain": [
       "[Path group: style=EOFILL, color=(0.0, 0.0, 0.0)\n",
       " 3 paths:\n",
       " \t[(59.1836, 99.1797), (5.73438, 7.13281), (112.176, 6.87109), (59.1836, 99.1797)]\n",
       " \t[(43.2422, 62.5703), (74.668, 62.5703), (74.668, 56.5703), (43.2422, 56.5703), (59.1836, 99.1797)]\n",
       " \t[(80.8789, 50.2539), (59.2227, 14.1797), (38.8125, 49.5352), (59.1836, 99.1797)],\n",
       " Path group: style=STROKE, color=(1.0, 0.0, 0.0)\n",
       " 3 paths:\n",
       " \t[(59.1836, 99.1797), (5.73438, 7.13281), (112.176, 6.87109), (59.1836, 99.1797)]\n",
       " \t[(43.2422, 62.5703), (74.668, 62.5703), (74.668, 56.5703), (43.2422, 56.5703), (59.1836, 99.1797)]\n",
       " \t[(80.8789, 50.2539), (59.2227, 14.1797), (38.8125, 49.5352), (59.1836, 99.1797)]]"
      ]
     },
     "execution_count": 77,
     "metadata": {},
     "output_type": "execute_result"
    }
   ],
   "source": [
    "def parse_path(lines):\n",
    "    def coords(s):\n",
    "        cmd, x, y = s.split(';')\n",
    "        return float(x), float(y)\n",
    "    coords = [ coords(l) for l in lines ]\n",
    "    return coords\n",
    "\n",
    "def parse_group(lines):\n",
    "    cmd, path_type, r, g, b = lines[0].split(';')\n",
    "    color = float(r), float(g), float(b)\n",
    "    strokes = transduce(\n",
    "        compose(\n",
    "            partitioning(lambda s: s.upper().startswith('MOVETO;')),\n",
    "            filtering(lambda lines: len(lines)>1),\n",
    "            mapping(parse_path)\n",
    "        ),      \n",
    "        appending(), \n",
    "        lines[1:])\n",
    "    path = PltmePathGroup(strokes, path_type, color)\n",
    "    return path\n",
    "\n",
    "transduce(\n",
    "    compose(\n",
    "        mapping(lambda s: s.strip()),\n",
    "        partitioning(lambda s: s.upper().startswith('STARTPATH;')),\n",
    "        mapping(parse_group)\n",
    "    ), \n",
    "    appending(), \n",
    "    s.splitlines())"
   ]
  },
  {
   "cell_type": "code",
   "execution_count": null,
   "metadata": {},
   "outputs": [],
   "source": []
  }
 ],
 "metadata": {
  "kernelspec": {
   "display_name": "Python 3",
   "language": "python",
   "name": "python3"
  },
  "language_info": {
   "codemirror_mode": {
    "name": "ipython",
    "version": 3
   },
   "file_extension": ".py",
   "mimetype": "text/x-python",
   "name": "python",
   "nbconvert_exporter": "python",
   "pygments_lexer": "ipython3",
   "version": "3.5.1+"
  }
 },
 "nbformat": 4,
 "nbformat_minor": 2
}
