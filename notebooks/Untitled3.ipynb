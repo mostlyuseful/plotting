{
 "cells": [
  {
   "cell_type": "code",
   "execution_count": 1,
   "metadata": {},
   "outputs": [
    {
     "name": "stdout",
     "output_type": "stream",
     "text": [
      "Populating the interactive namespace from numpy and matplotlib\n"
     ]
    }
   ],
   "source": [
    "%pylab inline\n",
    "import pyclipper"
   ]
  },
  {
   "cell_type": "code",
   "execution_count": 48,
   "metadata": {},
   "outputs": [
    {
     "data": {
      "image/png": "[encoded data removed]",
      "text/plain": [
       "<Figure size 432x288 with 1 Axes>"
      ]
     },
     "metadata": {},
     "output_type": "display_data"
    }
   ],
   "source": [
    "lines = (\n",
    "    ((150, 170), (250, 170)),\n",
    "    ((150, 205), (250, 205)),\n",
    ")\n",
    "poly = (\n",
    "    ((190, 210), (240, 210), (240, 130), (190, 130)),\n",
    "    ((200, 200), (230, 200), (215, 140))\n",
    ")\n",
    "\n",
    "pc = pyclipper.Pyclipper()\n",
    "pc.AddPaths(poly, pyclipper.PT_CLIP, True)\n",
    "pc.AddPaths(lines, pyclipper.PT_SUBJECT, False)\n",
    "\n",
    "solution = pc.Execute2(pyclipper.CT_INTERSECTION, pyclipper.PFT_EVENODD, pyclipper.PFT_EVENODD)\n",
    "assert(solution.depth==1)\n",
    "\n",
    "figure()\n",
    "axis('equal')\n",
    "\n",
    "for path in (np.asarray(_) for _ in lines):\n",
    "    xx, yy = path.T\n",
    "    plot(xx,yy,'x-b', alpha=0.2)\n",
    "\n",
    "for path in (np.asarray(_) for _ in poly):\n",
    "    xx, yy = path.T\n",
    "    # close polygon for visual purposes\n",
    "    xx = np.hstack((xx, xx[0]))\n",
    "    yy = np.hstack((yy, yy[0]))\n",
    "    plot(xx,yy,'x--r', alpha=0.3)\n",
    "    \n",
    "for child in solution.Childs:\n",
    "    assert(child.IsOpen)\n",
    "    xx, yy = np.asarray(child.Contour).T\n",
    "    plot(xx,yy,'+-g')"
   ]
  },
  {
   "cell_type": "code",
   "execution_count": null,
   "metadata": {},
   "outputs": [],
   "source": []
  }
 ],
 "metadata": {
  "kernelspec": {
   "display_name": "Python 3",
   "language": "python",
   "name": "python3"
  },
  "language_info": {
   "codemirror_mode": {
    "name": "ipython",
    "version": 3
   },
   "file_extension": ".py",
   "mimetype": "text/x-python",
   "name": "python",
   "nbconvert_exporter": "python",
   "pygments_lexer": "ipython3",
   "version": "3.5.1+"
  }
 },
 "nbformat": 4,
 "nbformat_minor": 2
}
