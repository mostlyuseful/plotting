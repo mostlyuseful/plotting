{
 "cells": [
  {
   "cell_type": "code",
   "execution_count": 7,
   "metadata": {},
   "outputs": [
    {
     "name": "stdout",
     "output_type": "stream",
     "text": [
      "Populating the interactive namespace from numpy and matplotlib\n"
     ]
    }
   ],
   "source": [
    "%pylab inline\n",
    "import io\n",
    "import subprocess\n",
    "import pathlib"
   ]
  },
  {
   "cell_type": "code",
   "execution_count": 8,
   "metadata": {},
   "outputs": [],
   "source": [
    "from plotting import svg2lines as s2l"
   ]
  },
  {
   "cell_type": "code",
   "execution_count": 71,
   "metadata": {},
   "outputs": [
    {
     "data": {
      "image/png": "[encoded data removed]",
      "text/plain": [
       "<Figure size 432x288 with 1 Axes>"
      ]
     },
     "metadata": {},
     "output_type": "display_data"
    }
   ],
   "source": [
    "paths=[]\n",
    "for y in linspace(10,20,num=11):\n",
    "    p = s2l.Path([50,65], [y,y], None, None)\n",
    "    paths.append(p)\n",
    "coll=s2l.PathCollection(paths)\n",
    "\n",
    "for p in coll.paths:\n",
    "    plot(p.x,p.y,'s-',markevery=[0])"
   ]
  },
  {
   "cell_type": "code",
   "execution_count": 53,
   "metadata": {},
   "outputs": [
    {
     "data": {
      "image/png": "[encoded data removed]",
      "text/plain": [
       "<Figure size 432x288 with 1 Axes>"
      ]
     },
     "metadata": {},
     "output_type": "display_data"
    }
   ],
   "source": [
    "PATH_DIRECTION_FORWARD, PATH_DIRECTION_REVERSED = 1, 2\n",
    "distance_threshold = 20\n",
    "pool = coll.paths[::]\n",
    "while True:\n",
    "    merged_at_least_one = False\n",
    "    for p in pool:\n",
    "        min_dst = float('+inf')\n",
    "        min_path = None\n",
    "        min_direction = None\n",
    "        # Also flip p too, check if that helps:\n",
    "        # Four possible combinations: p+q, p + r(q), r(p) + q, r(p) + r(q)\n",
    "        for q in (_ for _ in pool if _ is not p):\n",
    "            dst_normal = np.hypot(*np.subtract(q.start(), p.end()))\n",
    "            dst_revers = np.hypot(*np.subtract(q.end(), p.end()))\n",
    "            if (dst_normal < dst_revers) and (dst_normal < min_dst):\n",
    "                min_dst = dst_normal\n",
    "                min_path = q\n",
    "                min_direction = PATH_DIRECTION_FORWARD\n",
    "            elif (dst_revers < dst_normal) and (dst_revers < min_dst):\n",
    "                min_dst = dst_revers\n",
    "                min_path = q\n",
    "                min_direction = PATH_DIRECTION_REVERSED\n",
    "        if min_dst<distance_threshold and min_path is not None:\n",
    "            if min_direction==PATH_DIRECTION_FORWARD:\n",
    "                extension = min_path\n",
    "            else:\n",
    "                extension = s2l.reversed_path(min_path)\n",
    "            pool.append(p.append(extension))\n",
    "            pool.remove(p)\n",
    "            pool.remove(min_path)\n",
    "            merged_at_least_one = True\n",
    "            break\n",
    "    if not merged_at_least_one:\n",
    "        break\n",
    "\n",
    "for p in pool:\n",
    "    plot(p.x,p.y,'s-',markevery=[0])"
   ]
  },
  {
   "cell_type": "code",
   "execution_count": 65,
   "metadata": {},
   "outputs": [
    {
     "data": {
      "image/png": "[encoded data removed]",
      "text/plain": [
       "<Figure size 432x288 with 1 Axes>"
      ]
     },
     "metadata": {},
     "output_type": "display_data"
    }
   ],
   "source": [
    "for p in coll.paths:\n",
    "    plot(p.x,p.y,'s-',markevery=[0])"
   ]
  },
  {
   "cell_type": "code",
   "execution_count": 72,
   "metadata": {},
   "outputs": [
    {
     "data": {
      "image/png": "[encoded data removed]",
      "text/plain": [
       "<Figure size 432x288 with 1 Axes>"
      ]
     },
     "metadata": {},
     "output_type": "display_data"
    }
   ],
   "source": [
    "def make_candidate(p,q, q_orig):\n",
    "    dst = np.hypot(*np.subtract(p.end(),q.start()))\n",
    "    return dst, p, q, q_orig\n",
    "    \n",
    "\n",
    "PATH_DIRECTION_FORWARD, PATH_DIRECTION_REVERSED = 1, 2\n",
    "distance_threshold = 20\n",
    "pool = coll.paths[::]\n",
    "while True:\n",
    "    merged_at_least_one = False\n",
    "    for p in pool:\n",
    "        # Also flip p too, check if that helps:\n",
    "        # Four possible combinations: p+q, p + r(q), r(p) + q, r(p) + r(q)\n",
    "        \n",
    "        min_dst = float('+inf')\n",
    "        min_p = None\n",
    "        min_q = None\n",
    "        min_q_orig = None\n",
    "        \n",
    "        for q in [_ for _ in pool if _ is not p]:\n",
    "            \n",
    "            r = s2l.reversed_path\n",
    "            \n",
    "            candidates = [\n",
    "                make_candidate(p,q,q),\n",
    "                make_candidate(p,r(q),q),\n",
    "                make_candidate(r(p),q,q),\n",
    "                make_candidate(r(p),r(q),q)\n",
    "            ]\n",
    "            \n",
    "            dst, cp, cq, cq_orig = min(candidates, key=lambda c:c[0])\n",
    "            if dst < min_dst:\n",
    "                min_dst = dst\n",
    "                min_p = cp\n",
    "                min_q = cq\n",
    "                min_q_orig = cq_orig\n",
    "        if min_dst<distance_threshold and min_q is not None:\n",
    "            pool.remove(p)\n",
    "            pool.remove(min_q_orig)\n",
    "            pool.append(min_p.append(min_q))\n",
    "            merged_at_least_one = True\n",
    "            break\n",
    "    if not merged_at_least_one:\n",
    "        break\n",
    "\n",
    "for p in pool:\n",
    "    plot(p.x,p.y,'s-',markevery=[0])"
   ]
  },
  {
   "cell_type": "code",
   "execution_count": null,
   "metadata": {},
   "outputs": [],
   "source": []
  }
 ],
 "metadata": {
  "kernelspec": {
   "display_name": "Python 3",
   "language": "python",
   "name": "python3"
  },
  "language_info": {
   "codemirror_mode": {
    "name": "ipython",
    "version": 3
   },
   "file_extension": ".py",
   "mimetype": "text/x-python",
   "name": "python",
   "nbconvert_exporter": "python",
   "pygments_lexer": "ipython3",
   "version": "3.5.1+"
  }
 },
 "nbformat": 4,
 "nbformat_minor": 2
}
