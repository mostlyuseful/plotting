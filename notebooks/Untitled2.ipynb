{
 "cells": [
  {
   "cell_type": "code",
   "execution_count": 1,
   "metadata": {},
   "outputs": [
    {
     "name": "stdout",
     "output_type": "stream",
     "text": [
      "Populating the interactive namespace from numpy and matplotlib\n"
     ]
    }
   ],
   "source": [
    "%pylab inline"
   ]
  },
  {
   "cell_type": "code",
   "execution_count": 19,
   "metadata": {},
   "outputs": [],
   "source": [
    "def unit_vec(u):\n",
    "    return np.asarray(u) / np.linalg.norm(u)\n",
    "\n",
    "def polar(r, theta):\n",
    "    x = r * np.cos(theta)\n",
    "    y = r * np.sin(theta)\n",
    "    return x,y\n",
    "\n",
    "def vec_angle(u,v):\n",
    "    norm = np.linalg.norm\n",
    "    return np.arccos(np.dot(u,v) / (norm(u)*norm(v)))"
   ]
  },
  {
   "cell_type": "code",
   "execution_count": 24,
   "metadata": {},
   "outputs": [
    {
     "data": {
      "text/plain": [
       "39.99999999999999"
      ]
     },
     "execution_count": 24,
     "metadata": {},
     "output_type": "execute_result"
    },
    {
     "data": {
      "image/png": "[encoded data removed]",
      "text/plain": [
       "<Figure size 432x288 with 1 Axes>"
      ]
     },
     "metadata": {},
     "output_type": "display_data"
    }
   ],
   "source": [
    "u = polar(2,deg2rad(1))\n",
    "v = polar(1,deg2rad(41))\n",
    "plot([0,u[0]],[0,u[1]],'x-r')\n",
    "plot([0,v[0]],[0,v[1]],'x-b')\n",
    "rad2deg(vec_angle(v,u))"
   ]
  },
  {
   "cell_type": "code",
   "execution_count": 71,
   "metadata": {},
   "outputs": [
    {
     "data": {
      "text/plain": [
       "179.0000000000001"
      ]
     },
     "execution_count": 71,
     "metadata": {},
     "output_type": "execute_result"
    }
   ],
   "source": [
    "def vec_angle3(u,v,n):\n",
    "    norm = np.linalg.norm\n",
    "    l = norm(u)*norm(v)\n",
    "    cos_t = np.dot(u,v) / l\n",
    "    sin_t = np.dot(np.cross(n,u), v) / l\n",
    "    t = np.arccos(cos_t)\n",
    "    if sin_t >= 0:\n",
    "        return t\n",
    "    else:\n",
    "        return -t\n",
    "    \n",
    "def vec_angle2(u,v):\n",
    "    # Computes signed angle between u and v\n",
    "    a = *u, 0\n",
    "    b = *v, 0\n",
    "    n = unit_vec([0,0,1])\n",
    "    return vec_angle3(a,b,n)\n",
    "    \n",
    "rad2deg(vec_angle2(polar(2,deg2rad(270+1)),[0,1]))"
   ]
  },
  {
   "cell_type": "code",
   "execution_count": null,
   "metadata": {},
   "outputs": [],
   "source": []
  }
 ],
 "metadata": {
  "kernelspec": {
   "display_name": "Python 3",
   "language": "python",
   "name": "python3"
  },
  "language_info": {
   "codemirror_mode": {
    "name": "ipython",
    "version": 3
   },
   "file_extension": ".py",
   "mimetype": "text/x-python",
   "name": "python",
   "nbconvert_exporter": "python",
   "pygments_lexer": "ipython3",
   "version": "3.5.1+"
  }
 },
 "nbformat": 4,
 "nbformat_minor": 2
}
