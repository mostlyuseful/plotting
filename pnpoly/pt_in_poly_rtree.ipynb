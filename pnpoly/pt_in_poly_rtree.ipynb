{
 "cells": [
  {
   "cell_type": "code",
   "execution_count": 22,
   "metadata": {},
   "outputs": [
    {
     "name": "stdout",
     "output_type": "stream",
     "text": [
      "Populating the interactive namespace from numpy and matplotlib\n"
     ]
    },
    {
     "name": "stderr",
     "output_type": "stream",
     "text": [
      "/home/moe/.virtualenvs/sci3/lib/python3.5/site-packages/IPython/core/magics/pylab.py:160: UserWarning: pylab import has clobbered these variables: ['display']\n",
      "`%matplotlib` prevents importing * from pylab and numpy\n",
      "  \"\\n`%matplotlib` prevents importing * from pylab and numpy\"\n"
     ]
    }
   ],
   "source": [
    "%pylab inline\n",
    "del all, any"
   ]
  },
  {
   "cell_type": "code",
   "execution_count": 71,
   "metadata": {},
   "outputs": [],
   "source": [
    "import rtree\n",
    "from collections import namedtuple\n",
    "from enum import Enum\n",
    "from typing import Union, List"
   ]
  },
  {
   "cell_type": "code",
   "execution_count": 99,
   "metadata": {},
   "outputs": [],
   "source": [
    "Point = namedtuple('Point', ['x', 'y'])\n",
    "ParametricLine = namedtuple('ParametricLine', ['p', 'u'])\n",
    "Line = namedtuple('Line', ['homogenous', 'parametric', 'p1', 'p2'])\n",
    "\n",
    "def pt(xy):\n",
    "    x, y = xy\n",
    "    return Point(x=x, y=y)\n",
    "\n",
    "class DenormalizedIntersection(Enum):\n",
    "    nowhere = 0\n",
    "    everywhere = 1\n",
    "\n",
    "\n",
    "IntersectionPoint = namedtuple('IntersectionPoint', ['location', 'on_l1', 'on_l2', 's1', 's2'])\n",
    "Intersection = Union[IntersectionPoint, DenormalizedIntersection]\n",
    "\n",
    "\n",
    "def homogenous_form(p1, p2) -> np.ndarray:\n",
    "    return np.cross([p1.x, p1.y, 1.0], [p2.x, p2.y, 1.0])\n",
    "\n",
    "def parametric_form(p1, p2) -> ParametricLine:\n",
    "    f = np.asfarray\n",
    "    # Vektor\n",
    "    u = f([p2.x - p1.x, p2.y - p1.y])\n",
    "    # Fußpunkt\n",
    "    p = f([p1.x, p1.y])\n",
    "    return ParametricLine(p=p, u=u)\n",
    "\n",
    "\n",
    "def line_from_endpoints(p1, p2) -> Line:\n",
    "    return Line(homogenous=homogenous_form(p1, p2),\n",
    "                parametric=parametric_form(p1, p2),\n",
    "                p1=p1, p2=p2)\n",
    "\n",
    "\n",
    "def parametric_eval(pf, s):\n",
    "    return pf.p + (s * pf.u)\n",
    "\n",
    "\n",
    "def parametric_solve(pf, p: Point) -> (float, float):\n",
    "    a = np.matrix(pf.u).T\n",
    "    b = np.matrix([p.x - pf.p[0], p.y - pf.p[1]]).T\n",
    "    x, residuals, _, _ = np.linalg.lstsq(a, b, rcond=None)\n",
    "    return x[0, 0], residuals[0, 0]\n",
    "\n",
    "\n",
    "def intersection(l1: Line, l2: Line) -> Intersection:\n",
    "    ix = np.cross(l1.homogenous, l2.homogenous)\n",
    "    if np.allclose(ix, 0):\n",
    "        return DenormalizedIntersection.everywhere\n",
    "    if np.allclose(ix[2], 0):\n",
    "        return DenormalizedIntersection.nowhere\n",
    "    # Now check whether point lies on both lines\n",
    "    ixp = Point(ix[0] / ix[2], ix[1] / ix[2])\n",
    "    s1, r1 = parametric_solve(l1.parametric, ixp)\n",
    "    s2, r2 = parametric_solve(l2.parametric, ixp)\n",
    "    return IntersectionPoint(location=ixp, on_l1=0 <= s1 <= 1, on_l2=0 <= s2 <= 1, s1=s1, s2=s2)"
   ]
  },
  {
   "cell_type": "code",
   "execution_count": 89,
   "metadata": {},
   "outputs": [],
   "source": [
    "def display(paths):\n",
    "    figure()\n",
    "    axis('equal')\n",
    "    for path in paths:\n",
    "        xx, yy = np.asarray(path).T\n",
    "        plot(xx, yy, '-')"
   ]
  },
  {
   "cell_type": "code",
   "execution_count": 90,
   "metadata": {},
   "outputs": [
    {
     "data": {
      "image/png": "[encoded data removed]",
      "text/plain": [
       "<Figure size 432x288 with 1 Axes>"
      ]
     },
     "metadata": {},
     "output_type": "display_data"
    }
   ],
   "source": [
    "paths = [\n",
    "    [(59.1836, 99.1797), (5.73438, 7.13281), (112.176, 6.87109), (59.1836, 99.1797)],\n",
    "    [(43.2422, 62.5703), (74.668, 62.5703), (74.668, 56.5703), (43.2422, 56.5703), (43.2422, 62.5703)],\n",
    "    [(80.8789, 50.2539), (59.2227, 14.1797), (38.8125, 49.5352), (80.8789, 50.2539)],\n",
    "]\n",
    "\n",
    "display(paths)"
   ]
  },
  {
   "cell_type": "code",
   "execution_count": 113,
   "metadata": {},
   "outputs": [],
   "source": [
    "def even_odd_rule_inside(num_crossings):\n",
    "    return (num_crossings%2)==1\n",
    "\n",
    "def outside_bbox_paths(paths, x, y):\n",
    "    def outside(path, x, y):\n",
    "        xx, yy = np.asarray(path).T\n",
    "        x_min, x_max = xx.min(), xx.max()\n",
    "        y_min, y_max = yy.min(), yy.max()\n",
    "        outside_x = (x < x_min) or (x > x_max)\n",
    "        outside_y = (y < y_min) or (y > y_max)\n",
    "        return outside_x or outside_y\n",
    "    return all(outside(path, x, y) for path in paths)\n",
    "\n",
    "def outside_bbox(index, x, y):\n",
    "    x_min, y_min, x_max, y_max = index.bounds\n",
    "    outside_x = (x < x_min) or (x > x_max)\n",
    "    outside_y = (y < y_min) or (y > y_max)\n",
    "    return outside_x or outside_y\n",
    "    \n",
    "    \n",
    "def ensure_closed(path):\n",
    "    xx, yy = np.asarray(path).T\n",
    "    closed = (xx[0]==xx[-1]) and (yy[0]==yy[-1])\n",
    "    if closed:\n",
    "        return path\n",
    "    else:\n",
    "        xx_out = np.hstack((xx_out, xx[0]))\n",
    "        yy_out = np.hstack((yy_out, yy[0]))\n",
    "        return np.vstack((xx_out,yy_out)).T\n",
    "        \n",
    "    \n",
    "def build_index(paths):\n",
    "    def gen_entries():\n",
    "        counter = 0\n",
    "        for path in paths:\n",
    "            closed_path = ensure_closed(path)\n",
    "            for p,q in zip(closed_path[:-1], closed_path[1:]):\n",
    "                px, py = p\n",
    "                qx, qy = q\n",
    "                bounds = min(px,qx), min(py,qy), max(px,qx), max(py,qy)\n",
    "                obj = p,q\n",
    "                entry = counter, bounds, obj\n",
    "                yield entry\n",
    "                counter += 1\n",
    "    index = rtree.Rtree(gen_entries())\n",
    "    return index\n",
    "\n",
    "def dilate_bounds(interleaved_bounds, amount):\n",
    "    min_x, min_y, max_x, max_y = interleaved_bounds\n",
    "    return [min_x-amount, min_y-amount, max_x+amount, max_y+amount]\n",
    "\n",
    "def query(index, min_x, y, bbox):\n",
    "    max_x = bbox[2]\n",
    "    min_y = max_y = y\n",
    "    lines = [ line_from_endpoints(pt(item.object[0]), pt(item.object[1])) for item in index.intersection((min_x, min_y, max_x, max_y), objects=True)]\n",
    "    return lines\n",
    "\n",
    "def make_sweeping_ray(min_x, y, bbox):\n",
    "    max_x = bbox[2]\n",
    "    return line_from_endpoints(Point(x=min_x,y=y), Point(x=max_x,y=y))\n",
    "\n",
    "def preprocess(paths):\n",
    "    index = build_index(paths)\n",
    "    return index\n",
    "\n",
    "def pt_in_poly(index, x, y):\n",
    "    if outside_bbox(index, x,y):\n",
    "        return False\n",
    "    eps=1.0\n",
    "    bbox = dilate_bounds(index.bounds, eps)\n",
    "    intersecting_segments = query(index, x, y, bbox)\n",
    "    sweeping_ray = make_sweeping_ray(x,y, bbox)\n",
    "    intersections = [ intersection(s, sweeping_ray) for s in intersecting_segments ]\n",
    "    crossings = set( ix.s2 for ix in intersections if ix.on_l2 )\n",
    "    return even_odd_rule_inside(len(crossings))\n",
    "\n",
    "index = preprocess(paths)\n",
    "assert(pt_in_poly(index, 80, 20)==True)\n",
    "assert(pt_in_poly(index, 60, 40)==False)\n",
    "assert(pt_in_poly(index, -100, 40)==False)"
   ]
  },
  {
   "cell_type": "code",
   "execution_count": 108,
   "metadata": {},
   "outputs": [
    {
     "name": "stdout",
     "output_type": "stream",
     "text": [
      "873 µs ± 38.4 µs per loop (mean ± std. dev. of 7 runs, 1000 loops each)\n"
     ]
    }
   ],
   "source": [
    "timeit preprocess(paths)"
   ]
  },
  {
   "cell_type": "code",
   "execution_count": 114,
   "metadata": {},
   "outputs": [
    {
     "name": "stdout",
     "output_type": "stream",
     "text": [
      "66 µs ± 2.16 µs per loop (mean ± std. dev. of 7 runs, 10000 loops each)\n"
     ]
    }
   ],
   "source": [
    "timeit pt_in_poly(index, -100, 10)"
   ]
  },
  {
   "cell_type": "code",
   "execution_count": 115,
   "metadata": {},
   "outputs": [],
   "source": [
    "%load_ext line_profiler"
   ]
  },
  {
   "cell_type": "code",
   "execution_count": 119,
   "metadata": {},
   "outputs": [],
   "source": [
    "%lprun -f parametric_solve pt_in_poly(index,10,10)"
   ]
  },
  {
   "cell_type": "code",
   "execution_count": null,
   "metadata": {},
   "outputs": [],
   "source": []
  }
 ],
 "metadata": {
  "kernelspec": {
   "display_name": "Python 3",
   "language": "python",
   "name": "python3"
  },
  "language_info": {
   "codemirror_mode": {
    "name": "ipython",
    "version": 3
   },
   "file_extension": ".py",
   "mimetype": "text/x-python",
   "name": "python",
   "nbconvert_exporter": "python",
   "pygments_lexer": "ipython3",
   "version": "3.5.1+"
  }
 },
 "nbformat": 4,
 "nbformat_minor": 2
}
