{
 "cells": [
  {
   "cell_type": "code",
   "execution_count": 2,
   "metadata": {},
   "outputs": [
    {
     "name": "stdout",
     "output_type": "stream",
     "text": [
      "Populating the interactive namespace from numpy and matplotlib\n"
     ]
    }
   ],
   "source": [
    "%pylab inline\n",
    "from cypnpoly import pt_in_poly"
   ]
  },
  {
   "cell_type": "code",
   "execution_count": 11,
   "metadata": {},
   "outputs": [],
   "source": [
    "def pnpoly(vertx, verty, testx, testy):\n",
    "    vx = np.asarray(vertx, dtype=np.float32)\n",
    "    vy = np.asarray(verty, dtype=np.float32)\n",
    "    return pt_in_poly(vx, vy, testx, testy)"
   ]
  },
  {
   "cell_type": "code",
   "execution_count": 18,
   "metadata": {},
   "outputs": [
    {
     "data": {
      "text/plain": [
       "<matplotlib.image.AxesImage at 0x7fb11915ac18>"
      ]
     },
     "execution_count": 18,
     "metadata": {},
     "output_type": "execute_result"
    },
    {
     "data": {
      "image/png": "[encoded data removed]",
      "text/plain": [
       "<Figure size 432x288 with 1 Axes>"
      ]
     },
     "metadata": {},
     "output_type": "display_data"
    }
   ],
   "source": [
    "vertx = np.asarray([1,2,2,1], dtype=np.float32)\n",
    "verty = np.asarray([1,1,2,2], dtype=np.float32)\n",
    "\n",
    "yy = np.linspace(0, 3)\n",
    "xx = np.linspace(0, 3)\n",
    "zz = np.zeros( (len(yy),len(xx)) ,dtype=np.uint8)\n",
    "for i,y in enumerate(yy):\n",
    "    for j,x in enumerate(xx):\n",
    "        zz[i,j] = pnpoly(vertx,verty,x,y)\n",
    "\n",
    "imshow(zz, cmap=cm.gray)"
   ]
  },
  {
   "cell_type": "code",
   "execution_count": 21,
   "metadata": {},
   "outputs": [],
   "source": [
    "paths = [\n",
    "[(59.1836, 99.1797), (5.73438, 7.13281), (112.176, 6.87109), (59.1836, 99.1797)],\n",
    "[(43.2422, 62.5703), (74.668, 62.5703), (74.668, 56.5703), (43.2422, 56.5703), (43.2422, 62.5703)],\n",
    "[(80.8789, 50.2539), (59.2227, 14.1797), (38.8125, 49.5352), (80.8789, 50.2539)],\n",
    "]\n"
   ]
  },
  {
   "cell_type": "code",
   "execution_count": 27,
   "metadata": {},
   "outputs": [
    {
     "name": "stdout",
     "output_type": "stream",
     "text": [
      "[[  0.        0.     ]\n",
      " [ 59.1836   99.1797 ]\n",
      " [  5.73438   7.13281]\n",
      " [112.176     6.87109]\n",
      " [ 59.1836   99.1797 ]\n",
      " [  0.        0.     ]\n",
      " [ 43.2422   62.5703 ]\n",
      " [ 74.668    62.5703 ]\n",
      " [ 74.668    56.5703 ]\n",
      " [ 43.2422   56.5703 ]\n",
      " [ 43.2422   62.5703 ]\n",
      " [  0.        0.     ]\n",
      " [ 80.8789   50.2539 ]\n",
      " [ 59.2227   14.1797 ]\n",
      " [ 38.8125   49.5352 ]\n",
      " [ 80.8789   50.2539 ]\n",
      " [  0.        0.     ]]\n"
     ]
    }
   ],
   "source": [
    "vertx = []\n",
    "verty = []\n",
    "\n",
    "for path in paths:\n",
    "    vertx.append(0)\n",
    "    verty.append(0)\n",
    "    for (x,y) in path:\n",
    "        vertx.append(x)\n",
    "        verty.append(y)\n",
    "    first = path[0]\n",
    "    last = path[-1]\n",
    "    if last != first:\n",
    "        vertx.append(path[0][0])\n",
    "        verty.append(path[0][1])\n",
    "vertx.append(0)\n",
    "verty.append(0)\n",
    "\n",
    "vertx = np.asarray(vertx, dtype=np.float32)\n",
    "verty = np.asarray(verty, dtype=np.float32)\n",
    "\n",
    "print(np.vstack((vertx,verty)).T)"
   ]
  },
  {
   "cell_type": "code",
   "execution_count": 35,
   "metadata": {},
   "outputs": [
    {
     "data": {
      "text/plain": [
       "<matplotlib.image.AxesImage at 0x7fb118fe6668>"
      ]
     },
     "execution_count": 35,
     "metadata": {},
     "output_type": "execute_result"
    },
    {
     "data": {
      "image/png": "[encoded data removed]",
      "text/plain": [
       "<Figure size 432x288 with 1 Axes>"
      ]
     },
     "metadata": {},
     "output_type": "display_data"
    }
   ],
   "source": [
    "ymin = verty.min()\n",
    "ymax = verty.max()\n",
    "xmin = vertx.min()\n",
    "xmax = vertx.max()\n",
    "\n",
    "N = 100\n",
    "yy = np.linspace(ymin, ymax, num=N)\n",
    "xx = np.linspace(xmin, xmax, num=N)\n",
    "zz = np.zeros( (len(yy),len(xx)) ,dtype=np.uint8)\n",
    "for i,y in enumerate(yy):\n",
    "    for j,x in enumerate(xx):\n",
    "        zz[i,j] = pnpoly(vertx,verty,x,y)\n",
    "\n",
    "imshow(zz, cmap=cm.gray, origin=\"lower\")"
   ]
  },
  {
   "cell_type": "code",
   "execution_count": null,
   "metadata": {},
   "outputs": [],
   "source": []
  }
 ],
 "metadata": {
  "kernelspec": {
   "display_name": "Python 3",
   "language": "python",
   "name": "python3"
  },
  "language_info": {
   "codemirror_mode": {
    "name": "ipython",
    "version": 3
   },
   "file_extension": ".py",
   "mimetype": "text/x-python",
   "name": "python",
   "nbconvert_exporter": "python",
   "pygments_lexer": "ipython3",
   "version": "3.5.1+"
  }
 },
 "nbformat": 4,
 "nbformat_minor": 2
}
