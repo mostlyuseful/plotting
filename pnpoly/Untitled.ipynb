{
 "cells": [
  {
   "cell_type": "code",
   "execution_count": 1,
   "metadata": {},
   "outputs": [
    {
     "name": "stdout",
     "output_type": "stream",
     "text": [
      "Populating the interactive namespace from numpy and matplotlib\n"
     ]
    }
   ],
   "source": [
    "%pylab inline"
   ]
  },
  {
   "cell_type": "code",
   "execution_count": 2,
   "metadata": {},
   "outputs": [
    {
     "ename": "SyntaxError",
     "evalue": "invalid syntax (<ipython-input-2-d747c58b1706>, line 1)",
     "output_type": "error",
     "traceback": [
      "\u001b[0;36m  File \u001b[0;32m\"<ipython-input-2-d747c58b1706>\"\u001b[0;36m, line \u001b[0;32m1\u001b[0m\n\u001b[0;31m    std::vector<Point> sample_line(ClipperLib::Path const& line, int const num_samples) {\u001b[0m\n\u001b[0m       ^\u001b[0m\n\u001b[0;31mSyntaxError\u001b[0m\u001b[0;31m:\u001b[0m invalid syntax\n"
     ]
    }
   ],
   "source": [
    "std::vector<Point> sample_line(ClipperLib::Path const& line, int const num_samples) {\n",
    "    auto const& p = line[0];\n",
    "    auto const& q = line[1];\n",
    "    double const dx = q.X-p.X;\n",
    "    double const dy = q.Y-p.Y;\n",
    "    std::vector<Point> points;\n",
    "    points.reserve(num_samples);\n",
    "    for (int i = 0; i<num_samples; ++i) {\n",
    "        double const frac = i*(1.0/(num_samples-1));\n",
    "        double const x = frac * dx + p.X;\n",
    "        double const y = frac * dy + p.Y;\n",
    "        points.emplace_back({x,y});\n",
    "    }\n",
    "    return points;\n",
    "}"
   ]
  },
  {
   "cell_type": "code",
   "execution_count": 22,
   "metadata": {},
   "outputs": [
    {
     "data": {
      "image/png": "[encoded data removed]",
      "text/plain": [
       "<Figure size 432x288 with 1 Axes>"
      ]
     },
     "metadata": {},
     "output_type": "display_data"
    }
   ],
   "source": [
    "px, py = 1,3\n",
    "qx, qy = 7,-4\n",
    "dx = qx-px\n",
    "dy = qy-py\n",
    "points = []\n",
    "num_samples = 3\n",
    "for i in range(num_samples):\n",
    "    frac = i*(1.0/(num_samples-1))\n",
    "    x = frac*dx + px\n",
    "    y = frac*dy + py\n",
    "    points.append((x,y))\n",
    "    \n",
    "plot([px,qx],[py,qy],'-r')\n",
    "for p in points:\n",
    "    plot(p[0],p[1], 'xb')\n",
    "axis('equal');"
   ]
  },
  {
   "cell_type": "code",
   "execution_count": null,
   "metadata": {},
   "outputs": [],
   "source": []
  }
 ],
 "metadata": {
  "kernelspec": {
   "display_name": "Python 3",
   "language": "python",
   "name": "python3"
  },
  "language_info": {
   "codemirror_mode": {
    "name": "ipython",
    "version": 3
   },
   "file_extension": ".py",
   "mimetype": "text/x-python",
   "name": "python",
   "nbconvert_exporter": "python",
   "pygments_lexer": "ipython3",
   "version": "3.5.1+"
  }
 },
 "nbformat": 4,
 "nbformat_minor": 2
}
